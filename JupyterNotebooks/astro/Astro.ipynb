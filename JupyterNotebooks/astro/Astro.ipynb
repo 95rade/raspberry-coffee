{
 "cells": [
  {
   "cell_type": "markdown",
   "metadata": {},
   "source": [
    "# Astro Computer\n",
    "### How to use it\n",
    "Examples illustrating the way to use it.\n",
    "\n",
    "Make sure you have built the `common-utils` project."
   ]
  },
  {
   "cell_type": "code",
   "execution_count": 2,
   "metadata": {},
   "outputs": [],
   "source": [
    "List<String> added = %jars ../../common-utils/build/libs/common-utils-1.0.jar"
   ]
  },
  {
   "cell_type": "markdown",
   "metadata": {},
   "source": [
    "Initialize the `AstroComputer` with a UTC Time.\n",
    "\n",
    "The `DeltaT` parameter can be provided s a System variable named `deltaT`."
   ]
  },
  {
   "cell_type": "code",
   "execution_count": 3,
   "metadata": {},
   "outputs": [],
   "source": [
    "import calc.calculation.AstroComputer;\n",
    "\n",
    "Calendar date = Calendar.getInstance(TimeZone.getTimeZone(\"Etc/UTC\")); // Now\n",
    "AstroComputer.calculate(\n",
    "  date.get(Calendar.YEAR),\n",
    "  date.get(Calendar.MONTH) + 1,   // Yes, based on 1, not 0\n",
    "  date.get(Calendar.DAY_OF_MONTH),\n",
    "  date.get(Calendar.HOUR_OF_DAY), // and not just HOUR !!!!\n",
    "  date.get(Calendar.MINUTE),\n",
    "  date.get(Calendar.SECOND));\n",
    "\n",
    "// SF Home, for further use\n",
    "double lat = 37.7489;\n",
    "double lng = -122.5070;"
   ]
  },
  {
   "cell_type": "markdown",
   "metadata": {},
   "source": [
    "Get the Sun Meridian sage, in **hours**."
   ]
  },
  {
   "cell_type": "code",
   "execution_count": 4,
   "metadata": {},
   "outputs": [
    {
     "name": "stdout",
     "output_type": "stream",
     "text": [
      "Sun EoT in hours: 20.197772\n"
     ]
    }
   ],
   "source": [
    "double sunMeridianPassageTime = AstroComputer.getSunMeridianPassageTime(lat, lng);\n",
    "System.out.println(String.format(\"Sun EoT in hours: %f\", sunMeridianPassageTime));"
   ]
  },
  {
   "cell_type": "markdown",
   "metadata": {},
   "source": [
    "Get the Sun Transit Time (aka meridian passage time...) as an `epoch`."
   ]
  },
  {
   "cell_type": "code",
   "execution_count": 5,
   "metadata": {},
   "outputs": [
    {
     "name": "stdout",
     "output_type": "stream",
     "text": [
      "Transit Time:Mon Apr 08 13:11:51 PDT 2019\n"
     ]
    }
   ],
   "source": [
    "long sunTransit = AstroComputer.getSunTransitTime(lat, lng);\n",
    "Date tt = new Date(sunTransit);\n",
    "System.out.println(\"Transit Time:\" + tt.toString());"
   ]
  },
  {
   "cell_type": "markdown",
   "metadata": {},
   "source": [
    "Sun Rise and Set, with time in decimal hours, and azimuth (deprecated):"
   ]
  },
  {
   "cell_type": "code",
   "execution_count": 6,
   "metadata": {},
   "outputs": [
    {
     "name": "stdout",
     "output_type": "stream",
     "text": [
      "Time Rise: 13.797898, Time Set: 26.597645, ZRise: 80.033575º, ZSet: 279.966425º\n"
     ]
    }
   ],
   "source": [
    "double[] riseAndSet = AstroComputer.sunRiseAndSet(lat, lng); // Deprecated\n",
    "System.out.println(String.format(\"Time Rise: %f, Time Set: %f, ZRise: %f\\272, ZSet: %f\\272\", riseAndSet[0], riseAndSet[1], riseAndSet[2], riseAndSet[3]));"
   ]
  },
  {
   "cell_type": "markdown",
   "metadata": {},
   "source": [
    "Sun rise and set, as `epoch` (the one to use):"
   ]
  },
  {
   "cell_type": "code",
   "execution_count": 7,
   "metadata": {},
   "outputs": [
    {
     "name": "stdout",
     "output_type": "stream",
     "text": [
      "\n",
      "With epochs\n",
      "Rise Date: Mon Apr 08 06:49:25 PDT 2019 (Z:80.84º)\n",
      "Set Date: Mon Apr 08 19:34:59 PDT 2019 (Z:279.41º)\n"
     ]
    }
   ],
   "source": [
    "AstroComputer.EpochAndZ[] epochAndZs = AstroComputer.sunRiseAndSetEpoch(lat, lng);\n",
    "\n",
    "System.out.println(\"\\nWith epochs\");\n",
    "System.out.println(String.format(\"Rise Date: %s (Z:%.02f\\272)\\nSet Date: %s (Z:%.02f\\272)\",\n",
    "  new Date(epochAndZs[0].getEpoch()).toString(),\n",
    "  epochAndZs[0].getZ(),\n",
    "  new Date(epochAndZs[1].getEpoch()).toString(),\n",
    "  epochAndZs[1].getZ()));"
   ]
  },
  {
   "cell_type": "code",
   "execution_count": null,
   "metadata": {},
   "outputs": [],
   "source": []
  }
 ],
 "metadata": {
  "kernelspec": {
   "display_name": "Java",
   "language": "java",
   "name": "java"
  },
  "language_info": {
   "codemirror_mode": "java",
   "file_extension": ".java",
   "mimetype": "text/x-java-source",
   "name": "Java",
   "pygments_lexer": "java",
   "version": "9.0.1+11"
  }
 },
 "nbformat": 4,
 "nbformat_minor": 2
}
