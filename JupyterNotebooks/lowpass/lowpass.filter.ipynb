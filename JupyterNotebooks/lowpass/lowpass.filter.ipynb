{
 "cells": [
  {
   "cell_type": "markdown",
   "metadata": {},
   "source": [
    "# Low Pass Filter in Java"
   ]
  },
  {
   "cell_type": "markdown",
   "metadata": {},
   "source": [
    "Define the file to read, this one is a Comma-Separated-Values (CSV) file."
   ]
  },
  {
   "cell_type": "code",
   "execution_count": 2,
   "metadata": {},
   "outputs": [],
   "source": [
    "final String DATA_FILE = \"../../Project.Trunk/REST.clients/TCP.Watch.01/max.gust.csv\";"
   ]
  },
  {
   "cell_type": "markdown",
   "metadata": {},
   "source": [
    "Define a list to hold the `gusts` values we will tread in the data file"
   ]
  },
  {
   "cell_type": "code",
   "execution_count": 4,
   "metadata": {},
   "outputs": [],
   "source": [
    "List<Double> gusts = new ArrayList<>();\n",
    "BufferedReader br = new BufferedReader(new FileReader(DATA_FILE));"
   ]
  },
  {
   "cell_type": "markdown",
   "metadata": {},
   "source": [
    "Read loop. We read the data, and turn the 3rd value into a `double`, stored in the list."
   ]
  },
  {
   "cell_type": "code",
   "execution_count": 7,
   "metadata": {},
   "outputs": [],
   "source": [
    "String line = \"\";\n",
    "long lineNo = 0;\n",
    "while (line != null) {\n",
    "  line = br.readLine();\n",
    "  if (line != null) {\n",
    "    lineNo += 1;\n",
    "    if (lineNo > 1) {\n",
    "      String[] items = line.split(\",\");\n",
    "      if (items.length > 2) {\n",
    "        String gust = items[2];\n",
    "        gusts.add(Double.parseDouble(gust));\n",
    "      }\n",
    "    }\n",
    "  }\n",
    "}\n",
    "br.close();"
   ]
  },
  {
   "cell_type": "markdown",
   "metadata": {},
   "source": [
    "We have the data, let's count them, and then proceed."
   ]
  },
  {
   "cell_type": "code",
   "execution_count": 8,
   "metadata": {},
   "outputs": [
    {
     "name": "stdout",
     "output_type": "stream",
     "text": [
      "We read 1005 line(s), 1004 entry(ies) in the buffer.\n"
     ]
    }
   ],
   "source": [
    "System.out.println(String.format(\"We read %d line(s), %d entry(ies) in the buffer.\", lineNo, gusts.size()));"
   ]
  },
  {
   "cell_type": "code",
   "execution_count": 13,
   "metadata": {},
   "outputs": [
    {
     "name": "stdout",
     "output_type": "stream",
     "text": [
      "Gusts from 0.000 kts to 79.810 kts\n"
     ]
    }
   ],
   "source": [
    "double minGust = gusts.stream().min(Comparator.comparing(Double::doubleValue)).get().doubleValue();\n",
    "double maxGust = gusts.stream().max(Comparator.comparing(Double::doubleValue)).get().doubleValue();\n",
    "System.out.println(String.format(\"Gusts from %.03f kts to %.03f kts\", minGust, maxGust));"
   ]
  },
  {
   "cell_type": "markdown",
   "metadata": {},
   "source": [
    "Define the filter method:"
   ]
  },
  {
   "cell_type": "code",
   "execution_count": 14,
   "metadata": {},
   "outputs": [],
   "source": [
    "public final static double ALPHA = 0.015;\n",
    "public static double lowPass(double alpha, double value, double acc) {\n",
    "  return (value * alpha) + (acc * (1 - alpha));\n",
    "}"
   ]
  },
  {
   "cell_type": "markdown",
   "metadata": {},
   "source": [
    "Compute the filtered list:"
   ]
  },
  {
   "cell_type": "code",
   "execution_count": 16,
   "metadata": {},
   "outputs": [],
   "source": [
    "List<Double> filteredGusts = new ArrayList<>();\n",
    "double acc = 0;\n",
    "gusts.stream().forEach(gust -> {\n",
    "   acc = lowPass(ALPHA, gust, acc);\n",
    "   filteredGusts.add(acc);\n",
    " });"
   ]
  },
  {
   "cell_type": "code",
   "execution_count": null,
   "metadata": {},
   "outputs": [],
   "source": [
    "double minFGust = filteredGusts.stream().min(Comparator.comparing(Double::doubleValue)).get().doubleValue();\n",
    "double maxFGust = filteredGusts.stream().max(Comparator.comparing(Double::doubleValue)).get().doubleValue();\n",
    "System.out.println(String.format(\"Filtered Gusts from %.03f kts to %.03f kts\", minGust, maxGust));"
   ]
  },
  {
   "cell_type": "markdown",
   "metadata": {},
   "source": [
    "Display both on a graph"
   ]
  },
  {
   "cell_type": "code",
   "execution_count": null,
   "metadata": {},
   "outputs": [],
   "source": []
  }
 ],
 "metadata": {
  "kernelspec": {
   "display_name": "Java",
   "language": "java",
   "name": "java"
  },
  "language_info": {
   "codemirror_mode": "java",
   "file_extension": ".java",
   "mimetype": "text/x-java-source",
   "name": "Java",
   "pygments_lexer": "java",
   "version": "9.0.1+11"
  }
 },
 "nbformat": 4,
 "nbformat_minor": 2
}
